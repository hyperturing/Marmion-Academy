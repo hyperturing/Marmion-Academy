{
 "cells": [
  {
   "cell_type": "code",
   "execution_count": 2,
   "metadata": {
    "scrolled": true
   },
   "outputs": [
    {
     "name": "stdout",
     "output_type": "stream",
     "text": [
      "HOOMD-blue 2.3.3 DOUBLE HPMC_MIXED TBB SSE SSE2 \n",
      "Compiled: 07/04/2018\n",
      "Copyright 2009-2018 The Regents of the University of Michigan.\n",
      "-----\n",
      "You are using HOOMD-blue. Please cite the following:\n",
      "* J A Anderson, C D Lorenz, and A Travesset. \"General purpose molecular dynamics\n",
      "  simulations fully implemented on graphics processing units\", Journal of\n",
      "  Computational Physics 227 (2008) 5342--5359\n",
      "* J Glaser, T D Nguyen, J A Anderson, P Liu, F Spiga, J A Millan, D C Morse, and\n",
      "  S C Glotzer. \"Strong scaling of general-purpose molecular dynamics simulations\n",
      "  on GPUs\", Computer Physics Communications 192 (2015) 97--107\n",
      "-----\n",
      "HOOMD-blue is running on the CPU\n"
     ]
    },
    {
     "data": {
      "text/plain": [
       "<hoomd.context.SimulationContext at 0x7f4b2e041f60>"
      ]
     },
     "execution_count": 2,
     "metadata": {},
     "output_type": "execute_result"
    }
   ],
   "source": [
    "import hoomd\n",
    "import numpy\n",
    "import hoomd.md\n",
    "import sys\n",
    "import gsd\n",
    "import gsd.hoomd\n",
    "hoomd.context.initialize(\"\")"
   ]
  },
  {
   "cell_type": "code",
   "execution_count": 3,
   "metadata": {
    "scrolled": false
   },
   "outputs": [
    {
     "ename": "OSError",
     "evalue": "/home/themotivation/Avo_atoms/airHCN.gsd exists; not overwriting",
     "output_type": "error",
     "traceback": [
      "\u001b[0;31m---------------------------------------------------------------------------\u001b[0m",
      "\u001b[0;31mOSError\u001b[0m                                   Traceback (most recent call last)",
      "\u001b[0;32m<ipython-input-3-97975115fc35>\u001b[0m in \u001b[0;36m<module>\u001b[0;34m()\u001b[0m\n\u001b[1;32m      1\u001b[0m \u001b[0;32mimport\u001b[0m \u001b[0mmbuild\u001b[0m \u001b[0;32mas\u001b[0m \u001b[0mmb\u001b[0m\u001b[0;34m\u001b[0m\u001b[0m\n\u001b[1;32m      2\u001b[0m \u001b[0mbox\u001b[0m \u001b[0;34m=\u001b[0m \u001b[0mmb\u001b[0m\u001b[0;34m.\u001b[0m\u001b[0mload\u001b[0m\u001b[0;34m(\u001b[0m\u001b[0;34m\"/home/themotivation/Avo_atoms/airHCN.pdb\"\u001b[0m\u001b[0;34m)\u001b[0m\u001b[0;34m\u001b[0m\u001b[0m\n\u001b[0;32m----> 3\u001b[0;31m \u001b[0mbox\u001b[0m\u001b[0;34m.\u001b[0m\u001b[0msave\u001b[0m\u001b[0;34m(\u001b[0m\u001b[0;34m\"/home/themotivation/Avo_atoms/airHCN.gsd\"\u001b[0m\u001b[0;34m)\u001b[0m\u001b[0;34m\u001b[0m\u001b[0m\n\u001b[0m\u001b[1;32m      4\u001b[0m \u001b[0mprint\u001b[0m\u001b[0;34m(\u001b[0m\u001b[0;34m\"it worked!\"\u001b[0m\u001b[0;34m)\u001b[0m\u001b[0;34m\u001b[0m\u001b[0m\n",
      "\u001b[0;32m~/anaconda3/lib/python3.5/site-packages/mbuild/compound.py\u001b[0m in \u001b[0;36msave\u001b[0;34m(self, filename, show_ports, forcefield_name, forcefield_files, forcefield_debug, box, overwrite, residues, references_file, combining_rule, **kwargs)\u001b[0m\n\u001b[1;32m   1351\u001b[0m \u001b[0;34m\u001b[0m\u001b[0m\n\u001b[1;32m   1352\u001b[0m         \u001b[0;32mif\u001b[0m \u001b[0mos\u001b[0m\u001b[0;34m.\u001b[0m\u001b[0mpath\u001b[0m\u001b[0;34m.\u001b[0m\u001b[0mexists\u001b[0m\u001b[0;34m(\u001b[0m\u001b[0mfilename\u001b[0m\u001b[0;34m)\u001b[0m \u001b[0;32mand\u001b[0m \u001b[0;32mnot\u001b[0m \u001b[0moverwrite\u001b[0m\u001b[0;34m:\u001b[0m\u001b[0;34m\u001b[0m\u001b[0m\n\u001b[0;32m-> 1353\u001b[0;31m             \u001b[0;32mraise\u001b[0m \u001b[0mIOError\u001b[0m\u001b[0;34m(\u001b[0m\u001b[0;34m'{0} exists; not overwriting'\u001b[0m\u001b[0;34m.\u001b[0m\u001b[0mformat\u001b[0m\u001b[0;34m(\u001b[0m\u001b[0mfilename\u001b[0m\u001b[0;34m)\u001b[0m\u001b[0;34m)\u001b[0m\u001b[0;34m\u001b[0m\u001b[0m\n\u001b[0m\u001b[1;32m   1354\u001b[0m \u001b[0;34m\u001b[0m\u001b[0m\n\u001b[1;32m   1355\u001b[0m         \u001b[0mstructure\u001b[0m \u001b[0;34m=\u001b[0m \u001b[0mself\u001b[0m\u001b[0;34m.\u001b[0m\u001b[0mto_parmed\u001b[0m\u001b[0;34m(\u001b[0m\u001b[0mbox\u001b[0m\u001b[0;34m=\u001b[0m\u001b[0mbox\u001b[0m\u001b[0;34m,\u001b[0m \u001b[0mresidues\u001b[0m\u001b[0;34m=\u001b[0m\u001b[0mresidues\u001b[0m\u001b[0;34m)\u001b[0m\u001b[0;34m\u001b[0m\u001b[0m\n",
      "\u001b[0;31mOSError\u001b[0m: /home/themotivation/Avo_atoms/airHCN.gsd exists; not overwriting"
     ]
    }
   ],
   "source": [
    "import mbuild as mb\n",
    "box = mb.load(\"/home/themotivation/Avo_atoms/airHCN.pdb\")\n",
    "box.save(\"/home/themotivation/Avo_atoms/airHCN.gsd\")\n",
    "print(\"it worked!\")"
   ]
  },
  {
   "cell_type": "code",
   "execution_count": 4,
   "metadata": {
    "scrolled": true
   },
   "outputs": [
    {
     "name": "stdout",
     "output_type": "stream",
     "text": [
      "notice(2): Group \"all\" created containing 19904 particles\n"
     ]
    }
   ],
   "source": [
    "system = hoomd.init.read_gsd(\"/home/themotivation/Avo_atoms/airHCN.gsd\")"
   ]
  },
  {
   "cell_type": "code",
   "execution_count": 5,
   "metadata": {},
   "outputs": [
    {
     "name": "stdout",
     "output_type": "stream",
     "text": [
      "['AR', 'C', 'H', 'N', 'O']\n",
      "[[-15.002001  17.577    -15.713   ]\n",
      " [-15.654     16.912    -15.264   ]\n",
      " [ -0.092    -39.628     -9.145   ]\n",
      " ...\n",
      " [ 39.076    -38.936    -39.873   ]\n",
      " [ 39.579998 -39.948    -39.989   ]\n",
      " [ 38.61     -38.001    -39.765   ]]\n"
     ]
    }
   ],
   "source": [
    "#first line opens the gsd file so hoomd can read it. second line specifies the first (and only) frame of the gsd file (this gsd . \n",
    "#third line  confirms frame. \n",
    "#fourth line shows us the type/name of particles (atoms/molecules) that hoomd recognizes\n",
    "#fifth line shows us the snapshot at the specified timestep in the gsd file\n",
    "\n",
    "t = gsd.hoomd.open(name='/home/themotivation/Avo_atoms/airHCN.gsd', mode='rb')\n",
    "snap = t[0]\n",
    "snap.configuration.step\n",
    "print(snap.particles.types)\n",
    "print(snap.particles.position)\n",
    "#snap.particles.particle_types\n",
    "#snap.particles.position"
   ]
  },
  {
   "cell_type": "code",
   "execution_count": 6,
   "metadata": {
    "scrolled": true
   },
   "outputs": [
    {
     "name": "stdout",
     "output_type": "stream",
     "text": [
      "[[-15.002001  17.577    -15.713   ]\n",
      " [-15.654     16.912    -15.264   ]\n",
      " [ -0.092    -39.628     -9.145   ]\n",
      " ...\n",
      " [ 39.076    -38.936    -39.873   ]\n",
      " [ 39.579998 -39.948    -39.989   ]\n",
      " [ 38.61     -38.001    -39.765   ]]\n"
     ]
    }
   ],
   "source": [
    "snap2 = hoomd.data.make_snapshot(N=19904, box=hoomd.data.boxdim(L=100), particle_types=['AR', 'C', 'H', 'N', 'O'])\n",
    "for x in range(0, 19904):\n",
    "    snap2.particles.position[x] = snap.particles.position[x]\n",
    "\n",
    "print(snap2.particles.position)"
   ]
  },
  {
   "cell_type": "code",
   "execution_count": 7,
   "metadata": {},
   "outputs": [
    {
     "name": "stdout",
     "output_type": "stream",
     "text": [
      "[[-15.002001  17.577    -15.713   ]\n",
      " [-15.654     16.912    -15.264   ]\n",
      " [ -0.092    -39.628     -9.145   ]\n",
      " ...\n",
      " [ 39.076    -38.936    -39.873   ]\n",
      " [ 39.579998 -39.948    -39.989   ]\n",
      " [ 38.61     -38.001    -39.765   ]]\n"
     ]
    }
   ],
   "source": [
    "print(snap2.particles.position)"
   ]
  },
  {
   "cell_type": "code",
   "execution_count": 8,
   "metadata": {},
   "outputs": [
    {
     "name": "stdout",
     "output_type": "stream",
     "text": [
      "[[0. 0. 0.]\n",
      " [0. 0. 0.]\n",
      " [0. 0. 0.]\n",
      " ...\n",
      " [0. 0. 0.]\n",
      " [0. 0. 0.]\n",
      " [0. 0. 0.]]\n"
     ]
    }
   ],
   "source": [
    "print(snap2.particles.velocity)"
   ]
  },
  {
   "cell_type": "code",
   "execution_count": 9,
   "metadata": {},
   "outputs": [
    {
     "name": "stderr",
     "output_type": "stream",
     "text": [
      "**ERROR**: Cannot initialize more than once\n"
     ]
    },
    {
     "ename": "RuntimeError",
     "evalue": "Error initializing",
     "output_type": "error",
     "traceback": [
      "\u001b[0;31m---------------------------------------------------------------------------\u001b[0m",
      "\u001b[0;31mRuntimeError\u001b[0m                              Traceback (most recent call last)",
      "\u001b[0;32m<ipython-input-9-0e70dfd18460>\u001b[0m in \u001b[0;36m<module>\u001b[0;34m()\u001b[0m\n\u001b[0;32m----> 1\u001b[0;31m \u001b[0mhoomd\u001b[0m\u001b[0;34m.\u001b[0m\u001b[0minit\u001b[0m\u001b[0;34m.\u001b[0m\u001b[0mread_snapshot\u001b[0m\u001b[0;34m(\u001b[0m\u001b[0msnap2\u001b[0m\u001b[0;34m)\u001b[0m\u001b[0;34m;\u001b[0m\u001b[0;34m\u001b[0m\u001b[0m\n\u001b[0m",
      "\u001b[0;32m~/anaconda3/lib/python3.5/site-packages/hoomd/init.py\u001b[0m in \u001b[0;36mread_snapshot\u001b[0;34m(snapshot)\u001b[0m\n\u001b[1;32m    237\u001b[0m     \u001b[0;32mif\u001b[0m \u001b[0mis_initialized\u001b[0m\u001b[0;34m(\u001b[0m\u001b[0;34m)\u001b[0m\u001b[0;34m:\u001b[0m\u001b[0;34m\u001b[0m\u001b[0m\n\u001b[1;32m    238\u001b[0m         \u001b[0mhoomd\u001b[0m\u001b[0;34m.\u001b[0m\u001b[0mcontext\u001b[0m\u001b[0;34m.\u001b[0m\u001b[0mmsg\u001b[0m\u001b[0;34m.\u001b[0m\u001b[0merror\u001b[0m\u001b[0;34m(\u001b[0m\u001b[0;34m\"Cannot initialize more than once\\n\"\u001b[0m\u001b[0;34m)\u001b[0m\u001b[0;34m;\u001b[0m\u001b[0;34m\u001b[0m\u001b[0m\n\u001b[0;32m--> 239\u001b[0;31m         \u001b[0;32mraise\u001b[0m \u001b[0mRuntimeError\u001b[0m\u001b[0;34m(\u001b[0m\u001b[0;34m\"Error initializing\"\u001b[0m\u001b[0;34m)\u001b[0m\u001b[0;34m;\u001b[0m\u001b[0;34m\u001b[0m\u001b[0m\n\u001b[0m\u001b[1;32m    240\u001b[0m \u001b[0;34m\u001b[0m\u001b[0m\n\u001b[1;32m    241\u001b[0m     \u001b[0;31m# broadcast snapshot metadata so that all ranks have _global_box (the user may have set box only on rank 0)\u001b[0m\u001b[0;34m\u001b[0m\u001b[0;34m\u001b[0m\u001b[0m\n",
      "\u001b[0;31mRuntimeError\u001b[0m: Error initializing"
     ]
    }
   ],
   "source": [
    "hoomd.init.read_snapshot(snap2);"
   ]
  },
  {
   "cell_type": "code",
   "execution_count": 10,
   "metadata": {
    "scrolled": true
   },
   "outputs": [],
   "source": [
    "nl = hoomd.md.nlist.cell();"
   ]
  },
  {
   "cell_type": "code",
   "execution_count": 11,
   "metadata": {},
   "outputs": [],
   "source": [
    "lj = hoomd.md.pair.lj(r_cut=2.5, nlist=nl);"
   ]
  },
  {
   "cell_type": "code",
   "execution_count": 12,
   "metadata": {},
   "outputs": [],
   "source": [
    "lj.pair_coeff.set('N','N', epsilon=1.0, sigma=1.0);\n",
    "lj.pair_coeff.set('N','0', epsilon=1.0, sigma=1.0);\n",
    "lj.pair_coeff.set('N','AR', epsilon=1.0, sigma=1.0);\n",
    "lj.pair_coeff.set('N','H', epsilon=1.0, sigma=1.0);\n",
    "lj.pair_coeff.set('N','C', epsilon=1.0, sigma=1.0);\n",
    "\n",
    "lj.pair_coeff.set('O','O', epsilon=1.0, sigma=1.0);\n",
    "lj.pair_coeff.set('O','AR', epsilon=1.0, sigma=1.0);\n",
    "lj.pair_coeff.set('O','C', epsilon=1.0, sigma=1.0);\n",
    "lj.pair_coeff.set('O','H', epsilon=1.0, sigma=1.0);\n",
    "\n",
    "lj.pair_coeff.set('AR','AR', epsilon=1.0, sigma=1.0);\n",
    "lj.pair_coeff.set('AR','H', epsilon=1.0, sigma=1.0);\n",
    "lj.pair_coeff.set('AR','N', epsilon=1.0, sigma=1.0);\n",
    "lj.pair_coeff.set('AR','C', epsilon=1.0, sigma=1.0);\n",
    "\n",
    "lj.pair_coeff.set('H','C', epsilon=1.0, sigma=1.0);\n",
    "lj.pair_coeff.set('C','C', epsilon=1.0, sigma=1.0);\n",
    "lj.pair_coeff.set('H','H', epsilon=1.0, sigma=1.0);\n",
    "lj.pair_coeff.set('N','O', epsilon=1.0, sigma=1.0);"
   ]
  },
  {
   "cell_type": "code",
   "execution_count": 13,
   "metadata": {},
   "outputs": [],
   "source": [
    "hoomd.md.integrate.mode_standard(dt=0.005);"
   ]
  },
  {
   "cell_type": "code",
   "execution_count": null,
   "metadata": {},
   "outputs": [],
   "source": []
  },
  {
   "cell_type": "code",
   "execution_count": 14,
   "metadata": {},
   "outputs": [
    {
     "name": "stdout",
     "output_type": "stream",
     "text": [
      "notice(2): integrate.langevin/bd is using specified gamma values\n"
     ]
    }
   ],
   "source": [
    "all = hoomd.group.all();\n",
    "hoomd.md.integrate.langevin(group=all, kT=0.2, seed=42);"
   ]
  },
  {
   "cell_type": "markdown",
   "metadata": {},
   "source": [
    "hoomd.dump.gsd(\"trajairHCN.gsd\", period=2e3, group=all, overwrite=True);"
   ]
  },
  {
   "cell_type": "code",
   "execution_count": 15,
   "metadata": {},
   "outputs": [
    {
     "name": "stdout",
     "output_type": "stream",
     "text": [
      "notice(2): -- Neighborlist exclusion statistics -- :\n",
      "notice(2): Particles with 0 exclusions             : 19904\n",
      "notice(2): Neighbors included by diameter          : no\n",
      "notice(2): Neighbors excluded when in the same body: no\n",
      "** starting run **\n",
      "Time 00:00:27 | Step 2806 / 10000 | TPS 280.547 | ETA 00:00:25\n",
      "Time 00:00:37 | Step 5503 / 10000 | TPS 269.68 | ETA 00:00:16\n",
      "Time 00:00:47 | Step 7940 / 10000 | TPS 243.633 | ETA 00:00:08\n",
      "Time 00:00:57 | Step 10000 / 10000 | TPS 207.426 | ETA 00:00:00\n",
      "Average TPS: 250.393\n",
      "---------\n",
      "-- Neighborlist stats:\n",
      "152 normal updates / 100 forced updates / 0 dangerous updates\n",
      "n_neigh_min: 0 / n_neigh_max: 30 / n_neigh_avg: 4.45267\n",
      "shortest rebuild period: 23\n",
      "-- Cell list stats:\n",
      "Dimension: 29, 29, 29\n",
      "n_min    : 0 / n_max: 17 / n_avg: 0.816106\n",
      "** run complete **\n"
     ]
    }
   ],
   "source": [
    "hoomd.run(1e4);"
   ]
  },
  {
   "cell_type": "code",
   "execution_count": 18,
   "metadata": {},
   "outputs": [
    {
     "name": "stderr",
     "output_type": "stream",
     "text": [
      "/home/themotivation/anaconda3/lib/python3.5/site-packages/mbuild/compound.py:1768: UserWarning: Guessing that \"<AR pos=( 0.5265, 0.2604,-1.3727), 0 bonds, id: 139960532478720>\" is element: \"Ar\"\n",
      "  warn('Guessing that \"{}\" is element: \"{}\"'.format(atom, element))\n"
     ]
    },
    {
     "name": "stdout",
     "output_type": "stream",
     "text": [
      "it worked!\n"
     ]
    }
   ],
   "source": [
    "hoomd.dump.gsd(filename=\"/home/themotivation/trajairHCN.gsd\", period=2e3, group=all, overwrite=True);\n",
    "box.save(\"/home/themotivation/Avo_atoms/trajairHCN.gsd\")\n",
    "print(\"it worked!\")"
   ]
  },
  {
   "cell_type": "code",
   "execution_count": 25,
   "metadata": {},
   "outputs": [
    {
     "ename": "ImportError",
     "evalue": "No module named 'take'",
     "output_type": "error",
     "traceback": [
      "\u001b[0;31m---------------------------------------------------------------------------\u001b[0m",
      "\u001b[0;31mImportError\u001b[0m                               Traceback (most recent call last)",
      "\u001b[0;32m<ipython-input-25-b7bce4e2ed21>\u001b[0m in \u001b[0;36m<module>\u001b[0;34m()\u001b[0m\n\u001b[0;32m----> 1\u001b[0;31m \u001b[0;32mimport\u001b[0m \u001b[0mtake\u001b[0m\u001b[0;34m\u001b[0m\u001b[0m\n\u001b[0m\u001b[1;32m      2\u001b[0m \u001b[0mtake_snapshot\u001b[0m\u001b[0;34m(\u001b[0m\u001b[0mparticles\u001b[0m\u001b[0;34m=\u001b[0m\u001b[0;32mTrue\u001b[0m\u001b[0;34m,\u001b[0m \u001b[0mbonds\u001b[0m\u001b[0;34m=\u001b[0m\u001b[0;32mTrue\u001b[0m\u001b[0;34m,\u001b[0m \u001b[0mpairs\u001b[0m\u001b[0;34m=\u001b[0m\u001b[0;32mTrue\u001b[0m\u001b[0;34m,\u001b[0m \u001b[0mintegrators\u001b[0m\u001b[0;34m=\u001b[0m\u001b[0;32mTrue\u001b[0m\u001b[0;34m,\u001b[0m \u001b[0mall\u001b[0m\u001b[0;34m=\u001b[0m\u001b[0;32mTrue\u001b[0m\u001b[0;34m,\u001b[0m \u001b[0mdtype\u001b[0m\u001b[0;34m=\u001b[0m\u001b[0;34m'float'\u001b[0m\u001b[0;34m)\u001b[0m\u001b[0;34m\u001b[0m\u001b[0m\n",
      "\u001b[0;31mImportError\u001b[0m: No module named 'take'"
     ]
    }
   ],
   "source": [
    "import take\n",
    "take_snapshot(particles=True, bonds=True, pairs=True, integrators=True, all=True, dtype='float')"
   ]
  },
  {
   "cell_type": "code",
   "execution_count": null,
   "metadata": {},
   "outputs": [],
   "source": []
  }
 ],
 "metadata": {
  "kernelspec": {
   "display_name": "Python 3",
   "language": "python",
   "name": "python3"
  },
  "language_info": {
   "codemirror_mode": {
    "name": "ipython",
    "version": 3
   },
   "file_extension": ".py",
   "mimetype": "text/x-python",
   "name": "python",
   "nbconvert_exporter": "python",
   "pygments_lexer": "ipython3",
   "version": "3.5.5"
  }
 },
 "nbformat": 4,
 "nbformat_minor": 2
}
